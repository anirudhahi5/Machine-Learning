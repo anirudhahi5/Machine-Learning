{
 "cells": [
  {
   "cell_type": "code",
   "execution_count": 1,
   "id": "treated-atmosphere",
   "metadata": {},
   "outputs": [],
   "source": [
    "#import libraries"
   ]
  },
  {
   "cell_type": "code",
   "execution_count": 2,
   "id": "industrial-wages",
   "metadata": {},
   "outputs": [],
   "source": [
    "import pandas as pd"
   ]
  },
  {
   "cell_type": "code",
   "execution_count": 3,
   "id": "opening-biography",
   "metadata": {},
   "outputs": [],
   "source": [
    "#import dataset"
   ]
  },
  {
   "cell_type": "code",
   "execution_count": 4,
   "id": "rural-medium",
   "metadata": {},
   "outputs": [],
   "source": [
    "data=pd.read_csv(\"loan prediction.csv\")"
   ]
  },
  {
   "cell_type": "code",
   "execution_count": 5,
   "id": "acquired-indian",
   "metadata": {},
   "outputs": [],
   "source": [
    "#Explore the dataset"
   ]
  },
  {
   "cell_type": "code",
   "execution_count": 6,
   "id": "illegal-living",
   "metadata": {},
   "outputs": [
    {
     "data": {
      "text/html": [
       "<div>\n",
       "<style scoped>\n",
       "    .dataframe tbody tr th:only-of-type {\n",
       "        vertical-align: middle;\n",
       "    }\n",
       "\n",
       "    .dataframe tbody tr th {\n",
       "        vertical-align: top;\n",
       "    }\n",
       "\n",
       "    .dataframe thead th {\n",
       "        text-align: right;\n",
       "    }\n",
       "</style>\n",
       "<table border=\"1\" class=\"dataframe\">\n",
       "  <thead>\n",
       "    <tr style=\"text-align: right;\">\n",
       "      <th></th>\n",
       "      <th>Loan_ID</th>\n",
       "      <th>Gender</th>\n",
       "      <th>Married</th>\n",
       "      <th>Dependents</th>\n",
       "      <th>Education</th>\n",
       "      <th>Self_Employed</th>\n",
       "      <th>ApplicantIncome</th>\n",
       "      <th>CoapplicantIncome</th>\n",
       "      <th>LoanAmount</th>\n",
       "      <th>Loan_Amount_Term</th>\n",
       "      <th>Credit_History</th>\n",
       "      <th>Property_Area</th>\n",
       "      <th>Loan_Status</th>\n",
       "    </tr>\n",
       "  </thead>\n",
       "  <tbody>\n",
       "    <tr>\n",
       "      <th>0</th>\n",
       "      <td>LP001002</td>\n",
       "      <td>Male</td>\n",
       "      <td>No</td>\n",
       "      <td>0</td>\n",
       "      <td>Graduate</td>\n",
       "      <td>No</td>\n",
       "      <td>5849</td>\n",
       "      <td>0.0</td>\n",
       "      <td>NaN</td>\n",
       "      <td>360.0</td>\n",
       "      <td>1.0</td>\n",
       "      <td>Urban</td>\n",
       "      <td>Y</td>\n",
       "    </tr>\n",
       "    <tr>\n",
       "      <th>1</th>\n",
       "      <td>LP001003</td>\n",
       "      <td>Male</td>\n",
       "      <td>Yes</td>\n",
       "      <td>1</td>\n",
       "      <td>Graduate</td>\n",
       "      <td>No</td>\n",
       "      <td>4583</td>\n",
       "      <td>1508.0</td>\n",
       "      <td>128.0</td>\n",
       "      <td>360.0</td>\n",
       "      <td>1.0</td>\n",
       "      <td>Rural</td>\n",
       "      <td>N</td>\n",
       "    </tr>\n",
       "    <tr>\n",
       "      <th>2</th>\n",
       "      <td>LP001005</td>\n",
       "      <td>Male</td>\n",
       "      <td>Yes</td>\n",
       "      <td>0</td>\n",
       "      <td>Graduate</td>\n",
       "      <td>Yes</td>\n",
       "      <td>3000</td>\n",
       "      <td>0.0</td>\n",
       "      <td>66.0</td>\n",
       "      <td>360.0</td>\n",
       "      <td>1.0</td>\n",
       "      <td>Urban</td>\n",
       "      <td>Y</td>\n",
       "    </tr>\n",
       "    <tr>\n",
       "      <th>3</th>\n",
       "      <td>LP001006</td>\n",
       "      <td>Male</td>\n",
       "      <td>Yes</td>\n",
       "      <td>0</td>\n",
       "      <td>Not Graduate</td>\n",
       "      <td>No</td>\n",
       "      <td>2583</td>\n",
       "      <td>2358.0</td>\n",
       "      <td>120.0</td>\n",
       "      <td>360.0</td>\n",
       "      <td>1.0</td>\n",
       "      <td>Urban</td>\n",
       "      <td>Y</td>\n",
       "    </tr>\n",
       "    <tr>\n",
       "      <th>4</th>\n",
       "      <td>LP001008</td>\n",
       "      <td>Male</td>\n",
       "      <td>No</td>\n",
       "      <td>0</td>\n",
       "      <td>Graduate</td>\n",
       "      <td>No</td>\n",
       "      <td>6000</td>\n",
       "      <td>0.0</td>\n",
       "      <td>141.0</td>\n",
       "      <td>360.0</td>\n",
       "      <td>1.0</td>\n",
       "      <td>Urban</td>\n",
       "      <td>Y</td>\n",
       "    </tr>\n",
       "  </tbody>\n",
       "</table>\n",
       "</div>"
      ],
      "text/plain": [
       "    Loan_ID Gender Married Dependents     Education Self_Employed  \\\n",
       "0  LP001002   Male      No          0      Graduate            No   \n",
       "1  LP001003   Male     Yes          1      Graduate            No   \n",
       "2  LP001005   Male     Yes          0      Graduate           Yes   \n",
       "3  LP001006   Male     Yes          0  Not Graduate            No   \n",
       "4  LP001008   Male      No          0      Graduate            No   \n",
       "\n",
       "   ApplicantIncome  CoapplicantIncome  LoanAmount  Loan_Amount_Term  \\\n",
       "0             5849                0.0         NaN             360.0   \n",
       "1             4583             1508.0       128.0             360.0   \n",
       "2             3000                0.0        66.0             360.0   \n",
       "3             2583             2358.0       120.0             360.0   \n",
       "4             6000                0.0       141.0             360.0   \n",
       "\n",
       "   Credit_History Property_Area Loan_Status  \n",
       "0             1.0         Urban           Y  \n",
       "1             1.0         Rural           N  \n",
       "2             1.0         Urban           Y  \n",
       "3             1.0         Urban           Y  \n",
       "4             1.0         Urban           Y  "
      ]
     },
     "execution_count": 6,
     "metadata": {},
     "output_type": "execute_result"
    }
   ],
   "source": [
    "data.head()"
   ]
  },
  {
   "cell_type": "code",
   "execution_count": 7,
   "id": "tested-collapse",
   "metadata": {},
   "outputs": [],
   "source": [
    "#missing value check"
   ]
  },
  {
   "cell_type": "code",
   "execution_count": 8,
   "id": "sensitive-muslim",
   "metadata": {},
   "outputs": [
    {
     "data": {
      "text/plain": [
       "Loan_ID               0\n",
       "Gender               13\n",
       "Married               3\n",
       "Dependents           15\n",
       "Education             0\n",
       "Self_Employed        32\n",
       "ApplicantIncome       0\n",
       "CoapplicantIncome     0\n",
       "LoanAmount           22\n",
       "Loan_Amount_Term     14\n",
       "Credit_History       50\n",
       "Property_Area         0\n",
       "Loan_Status           0\n",
       "dtype: int64"
      ]
     },
     "execution_count": 8,
     "metadata": {},
     "output_type": "execute_result"
    }
   ],
   "source": [
    "data.isnull().sum()"
   ]
  },
  {
   "cell_type": "code",
   "execution_count": 9,
   "id": "norman-cholesterol",
   "metadata": {},
   "outputs": [],
   "source": [
    "#Missing Value Treatment"
   ]
  },
  {
   "cell_type": "code",
   "execution_count": 10,
   "id": "lovely-exploration",
   "metadata": {},
   "outputs": [],
   "source": [
    "data.isnull().sum()\n",
    "data['Gender'].fillna(data[\"Gender\"].mode()[0],inplace=True)\n",
    "data['Married'].fillna(data[\"Married\"].mode()[0],inplace=True)\n",
    "data['Dependents'].fillna(data[\"Dependents\"].mode()[0],inplace=True)\n",
    "data['Self_Employed'].fillna(data[\"Self_Employed\"].mode()[0],inplace=True)\n",
    "data['Loan_Amount_Term'].fillna(data[\"Loan_Amount_Term\"].mode()[0],inplace=True)\n",
    "data['Credit_History'].fillna(data[\"Credit_History\"].mode()[0],inplace=True)\n",
    "data['LoanAmount'].fillna(data[\"LoanAmount\"].median(),inplace=True)"
   ]
  },
  {
   "cell_type": "code",
   "execution_count": 11,
   "id": "large-gambling",
   "metadata": {},
   "outputs": [
    {
     "data": {
      "text/plain": [
       "Loan_ID              0\n",
       "Gender               0\n",
       "Married              0\n",
       "Dependents           0\n",
       "Education            0\n",
       "Self_Employed        0\n",
       "ApplicantIncome      0\n",
       "CoapplicantIncome    0\n",
       "LoanAmount           0\n",
       "Loan_Amount_Term     0\n",
       "Credit_History       0\n",
       "Property_Area        0\n",
       "Loan_Status          0\n",
       "dtype: int64"
      ]
     },
     "execution_count": 11,
     "metadata": {},
     "output_type": "execute_result"
    }
   ],
   "source": [
    "data.isnull().sum()"
   ]
  },
  {
   "cell_type": "code",
   "execution_count": 12,
   "id": "lovely-allocation",
   "metadata": {},
   "outputs": [],
   "source": [
    "#Excluding/dropping non value added columns or data\n",
    "df=data.drop(data[[\"Loan_ID\",\"Loan_Status\",\"Loan_Amount_Term\"]],axis=1)"
   ]
  },
  {
   "cell_type": "code",
   "execution_count": 13,
   "id": "loving-standard",
   "metadata": {},
   "outputs": [],
   "source": [
    "#df=data.iloc[:,1:-1]\n",
    "df=pd.get_dummies(df,columns=[\"Gender\",\"Married\",\"Dependents\",\"Education\",\"Self_Employed\",\"Credit_History\",\"Property_Area\"])"
   ]
  },
  {
   "cell_type": "code",
   "execution_count": 14,
   "id": "primary-czech",
   "metadata": {},
   "outputs": [],
   "source": [
    "#Declare the dependent and independent variable"
   ]
  },
  {
   "cell_type": "code",
   "execution_count": 15,
   "id": "cross-swimming",
   "metadata": {},
   "outputs": [],
   "source": [
    "X=df.values\n",
    "y=data.iloc[:,-1].values"
   ]
  },
  {
   "cell_type": "code",
   "execution_count": 16,
   "id": "legitimate-regular",
   "metadata": {},
   "outputs": [],
   "source": [
    "#Split the data into a model of 20% and 80%\n",
    "from sklearn.model_selection import train_test_split\n",
    "X_train,X_test,y_train,y_test=train_test_split(X,y,test_size=.2,random_state=42)"
   ]
  },
  {
   "cell_type": "code",
   "execution_count": 17,
   "id": "medieval-harvest",
   "metadata": {},
   "outputs": [],
   "source": [
    "#Decision Tree library import"
   ]
  },
  {
   "cell_type": "code",
   "execution_count": 18,
   "id": "enormous-observer",
   "metadata": {},
   "outputs": [],
   "source": [
    "from sklearn.tree import DecisionTreeClassifier\n",
    "from sklearn.metrics import confusion_matrix"
   ]
  },
  {
   "cell_type": "code",
   "execution_count": 19,
   "id": "regulated-baseball",
   "metadata": {},
   "outputs": [],
   "source": [
    "#crete a object of model"
   ]
  },
  {
   "cell_type": "code",
   "execution_count": 20,
   "id": "subject-football",
   "metadata": {},
   "outputs": [],
   "source": [
    "clf_gini=DecisionTreeClassifier(criterion=\"gini\",random_state=10,max_depth=3,min_samples_leaf=5)"
   ]
  },
  {
   "cell_type": "code",
   "execution_count": 21,
   "id": "operating-paintball",
   "metadata": {},
   "outputs": [],
   "source": [
    "#fit the model"
   ]
  },
  {
   "cell_type": "code",
   "execution_count": 22,
   "id": "large-ballot",
   "metadata": {},
   "outputs": [],
   "source": [
    "clf_gini.fit(X_train,y_train)\n",
    "y_pred=clf_gini.predict(X_test)"
   ]
  },
  {
   "cell_type": "code",
   "execution_count": 23,
   "id": "medical-surprise",
   "metadata": {},
   "outputs": [],
   "source": [
    "#Accuracy of train and test"
   ]
  },
  {
   "cell_type": "code",
   "execution_count": 24,
   "id": "incident-peace",
   "metadata": {},
   "outputs": [
    {
     "name": "stdout",
     "output_type": "stream",
     "text": [
      "Training Accuracy:0.821\n",
      "Testing Accuracy:0.789\n"
     ]
    }
   ],
   "source": [
    "print(\"Training Accuracy:{:.3f}\".format(clf_gini.score(X_train,y_train)))\n",
    "\n",
    "print('Testing Accuracy:{:.3f}'.format(clf_gini.score(X_test,y_test)))\n"
   ]
  },
  {
   "cell_type": "code",
   "execution_count": 25,
   "id": "forward-healthcare",
   "metadata": {},
   "outputs": [],
   "source": [
    "#confusion matrix"
   ]
  },
  {
   "cell_type": "code",
   "execution_count": 26,
   "id": "bottom-sellers",
   "metadata": {},
   "outputs": [
    {
     "name": "stdout",
     "output_type": "stream",
     "text": [
      "[[18 25]\n",
      " [ 1 79]]\n"
     ]
    }
   ],
   "source": [
    "from sklearn.metrics import confusion_matrix\n",
    "cm=confusion_matrix(y_test,y_pred)\n",
    "print(cm)"
   ]
  },
  {
   "cell_type": "code",
   "execution_count": 27,
   "id": "shared-juvenile",
   "metadata": {},
   "outputs": [],
   "source": [
    "len2=len(df.columns)\n",
    "features=list(df.columns[0:len2])"
   ]
  },
  {
   "cell_type": "code",
   "execution_count": 31,
   "id": "ambient-upper",
   "metadata": {},
   "outputs": [],
   "source": [
    "from sklearn import tree"
   ]
  },
  {
   "cell_type": "code",
   "execution_count": 39,
   "id": "married-burner",
   "metadata": {},
   "outputs": [],
   "source": [
    "from io import StringIO\n",
    "dot_data= StringIO();\n",
    "sklearn.tree.export_graphviz(clf_gini,out_file=dot_data, feature_names=features,impurity=False)\n",
    "graph=pdtp.graph_from_dot_data(dot_data.getvalue())\n",
    "graph.write_pdf('treedemo.pdf')"
   ]
  },
  {
   "cell_type": "code",
   "execution_count": null,
   "id": "excellent-italian",
   "metadata": {},
   "outputs": [],
   "source": [
    "#Export using graphviz"
   ]
  },
  {
   "cell_type": "code",
   "execution_count": 37,
   "id": "judicial-technician",
   "metadata": {},
   "outputs": [],
   "source": [
    "df1=pd.DataFrame(X_train,columns=df.columns)\n",
    "df1['Loan_Status']=y_train\n",
    "df1.to_csv('Train.csv')"
   ]
  }
 ],
 "metadata": {
  "kernelspec": {
   "display_name": "Python 3",
   "language": "python",
   "name": "python3"
  },
  "language_info": {
   "codemirror_mode": {
    "name": "ipython",
    "version": 3
   },
   "file_extension": ".py",
   "mimetype": "text/x-python",
   "name": "python",
   "nbconvert_exporter": "python",
   "pygments_lexer": "ipython3",
   "version": "3.8.5"
  }
 },
 "nbformat": 4,
 "nbformat_minor": 5
}
