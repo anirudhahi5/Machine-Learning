{
 "cells": [
  {
   "cell_type": "code",
   "execution_count": 1,
   "id": "mighty-sample",
   "metadata": {},
   "outputs": [],
   "source": [
    "#import relevent libraries"
   ]
  },
  {
   "cell_type": "code",
   "execution_count": 2,
   "id": "figured-borough",
   "metadata": {},
   "outputs": [],
   "source": [
    "import pandas as pd\n",
    "import matplotlib.pyplot as plt"
   ]
  },
  {
   "cell_type": "code",
   "execution_count": 3,
   "id": "athletic-treasurer",
   "metadata": {},
   "outputs": [],
   "source": [
    "#import dataset"
   ]
  },
  {
   "cell_type": "code",
   "execution_count": 4,
   "id": "grateful-genius",
   "metadata": {},
   "outputs": [],
   "source": [
    "data = pd.read_csv(r\"Facebook_data.csv\")"
   ]
  },
  {
   "cell_type": "code",
   "execution_count": 5,
   "id": "frank-relaxation",
   "metadata": {},
   "outputs": [],
   "source": [
    "#Check for missing value/Preprocessing/EDA"
   ]
  },
  {
   "cell_type": "code",
   "execution_count": 6,
   "id": "local-technical",
   "metadata": {},
   "outputs": [
    {
     "data": {
      "text/plain": [
       "Comment         0\n",
       "Like            0\n",
       "Share           2\n",
       "Interactions    4\n",
       "Type            0\n",
       "dtype: int64"
      ]
     },
     "execution_count": 6,
     "metadata": {},
     "output_type": "execute_result"
    }
   ],
   "source": [
    "data.isnull().sum()"
   ]
  },
  {
   "cell_type": "code",
   "execution_count": 7,
   "id": "changed-offset",
   "metadata": {},
   "outputs": [],
   "source": [
    "#missing value treatment"
   ]
  },
  {
   "cell_type": "code",
   "execution_count": 8,
   "id": "premium-chester",
   "metadata": {},
   "outputs": [],
   "source": [
    "# Fill in with most frequent category ( Mode )\n",
    "data['Share'].fillna(data['Share'].mode()[0], inplace = True)\n",
    "data['Interactions'].fillna(data['Interactions'].mode()[0], inplace = True)"
   ]
  },
  {
   "cell_type": "code",
   "execution_count": 9,
   "id": "municipal-twenty",
   "metadata": {},
   "outputs": [],
   "source": [
    "#copy data into new df"
   ]
  },
  {
   "cell_type": "code",
   "execution_count": 10,
   "id": "authorized-gambling",
   "metadata": {},
   "outputs": [],
   "source": [
    "data1 = data.iloc[: , 1: -1]"
   ]
  },
  {
   "cell_type": "code",
   "execution_count": 11,
   "id": "superior-declaration",
   "metadata": {},
   "outputs": [],
   "source": [
    "#Declare dependent and independent variable"
   ]
  },
  {
   "cell_type": "code",
   "execution_count": 12,
   "id": "suited-female",
   "metadata": {},
   "outputs": [],
   "source": [
    "X = data1.values\n",
    "y = data.iloc[:,-1].values"
   ]
  },
  {
   "cell_type": "code",
   "execution_count": 13,
   "id": "increasing-smoke",
   "metadata": {},
   "outputs": [],
   "source": [
    "#Split the dataset into testing and training"
   ]
  },
  {
   "cell_type": "code",
   "execution_count": 14,
   "id": "supreme-longer",
   "metadata": {},
   "outputs": [],
   "source": [
    "from sklearn.model_selection import train_test_split\n",
    "X_train , X_test , y_train , y_test = train_test_split(X, y,test_size = 0.2 , random_state = 42)"
   ]
  },
  {
   "cell_type": "code",
   "execution_count": 15,
   "id": "considered-mortgage",
   "metadata": {},
   "outputs": [],
   "source": [
    "# Scaling \n",
    "from sklearn.preprocessing import StandardScaler\n",
    "sc = StandardScaler()\n",
    "X_train = sc.fit_transform(X_train)\n",
    "X_test = sc.fit_transform(X_test)"
   ]
  },
  {
   "cell_type": "code",
   "execution_count": 16,
   "id": "charming-cooler",
   "metadata": {},
   "outputs": [],
   "source": [
    "#Create model object"
   ]
  },
  {
   "cell_type": "code",
   "execution_count": 17,
   "id": "actual-kuwait",
   "metadata": {},
   "outputs": [],
   "source": [
    "from sklearn.svm import SVC\n",
    "SVM = SVC(kernel = 'linear')"
   ]
  },
  {
   "cell_type": "code",
   "execution_count": 18,
   "id": "conditional-thread",
   "metadata": {},
   "outputs": [
    {
     "data": {
      "text/plain": [
       "SVC(kernel='linear')"
      ]
     },
     "execution_count": 18,
     "metadata": {},
     "output_type": "execute_result"
    }
   ],
   "source": [
    "#Fit the model\n",
    "SVM.fit(X_train , y_train)"
   ]
  },
  {
   "cell_type": "code",
   "execution_count": 19,
   "id": "lesser-northern",
   "metadata": {},
   "outputs": [],
   "source": [
    "#Predict the model\n",
    "y_pred = SVM.predict(X_test)"
   ]
  },
  {
   "cell_type": "code",
   "execution_count": 20,
   "id": "fancy-israeli",
   "metadata": {},
   "outputs": [],
   "source": [
    "#Accuracy and score"
   ]
  },
  {
   "cell_type": "code",
   "execution_count": 21,
   "id": "brilliant-intent",
   "metadata": {},
   "outputs": [
    {
     "name": "stdout",
     "output_type": "stream",
     "text": [
      "Training Accuracy :0.895\n",
      "Testing Accuracy :0.936\n"
     ]
    }
   ],
   "source": [
    "print('Training Accuracy :{:.3f}'.format(SVM.score(X_train, y_train)))\n",
    "print('Testing Accuracy :{:.3f}'.format(SVM.score(X_test, y_test)))"
   ]
  },
  {
   "cell_type": "code",
   "execution_count": 22,
   "id": "overhead-backing",
   "metadata": {},
   "outputs": [
    {
     "name": "stdout",
     "output_type": "stream",
     "text": [
      "[[88  0]\n",
      " [ 6  0]]\n"
     ]
    }
   ],
   "source": [
    "#Confusion Matrix\n",
    "from sklearn.metrics import confusion_matrix\n",
    "cm = confusion_matrix(y_test , y_pred, labels = (\"Photo\",\"Status\"))\n",
    "print(cm)"
   ]
  },
  {
   "cell_type": "code",
   "execution_count": 23,
   "id": "informed-legislation",
   "metadata": {},
   "outputs": [
    {
     "name": "stdout",
     "output_type": "stream",
     "text": [
      "0.903515\n"
     ]
    }
   ],
   "source": [
    "#Pipeline\n",
    "from sklearn.model_selection import cross_val_score\n",
    "from sklearn.pipeline import make_pipeline\n",
    "clf = make_pipeline(sc , SVM)\n",
    "accuracies = cross_val_score(clf,X,y,cv = 10)\n",
    "print('{:3f}'.format(accuracies.mean()))"
   ]
  }
 ],
 "metadata": {
  "kernelspec": {
   "display_name": "Python 3",
   "language": "python",
   "name": "python3"
  },
  "language_info": {
   "codemirror_mode": {
    "name": "ipython",
    "version": 3
   },
   "file_extension": ".py",
   "mimetype": "text/x-python",
   "name": "python",
   "nbconvert_exporter": "python",
   "pygments_lexer": "ipython3",
   "version": "3.8.5"
  }
 },
 "nbformat": 4,
 "nbformat_minor": 5
}
