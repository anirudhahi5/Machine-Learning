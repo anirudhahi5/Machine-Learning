{
 "cells": [
  {
   "cell_type": "markdown",
   "metadata": {
    "colab_type": "text",
    "id": "Qjdz3035-oFQ"
   },
   "source": [
    "# Linear Regression : Case Study"
   ]
  },
  {
   "cell_type": "markdown",
   "metadata": {
    "colab_type": "text",
    "id": "BCCTzyVe-oFS"
   },
   "source": [
    "\n",
    "* Reading a Dataset for Linear Regression \n",
    "* Exploratory Data Analysis and Visualization\n",
    "* Feature Engineering \n",
    "* Building Linear Regression Model\n",
    "* Model Evaluation \n",
    "* Model Fine Tunning\n",
    "* Final Results"
   ]
  },
  {
   "cell_type": "markdown",
   "metadata": {
    "colab_type": "text",
    "id": "ba0yILmr-oFT"
   },
   "source": [
    "## Loading Dataset for Linear Regression "
   ]
  },
  {
   "cell_type": "markdown",
   "metadata": {
    "colab_type": "text",
    "id": "bp0tbjvN-oFU"
   },
   "source": [
    "### Loading required libraries"
   ]
  },
  {
   "cell_type": "code",
   "execution_count": 1,
   "metadata": {
    "colab": {},
    "colab_type": "code",
    "id": "RWGbn8pfDpfc"
   },
   "outputs": [],
   "source": [
    "import pandas as pd\n",
    "import numpy as np\n",
    "import  matplotlib.pyplot as plt\n",
    "%matplotlib inline"
   ]
  },
  {
   "cell_type": "markdown",
   "metadata": {
    "colab": {},
    "colab_type": "code",
    "id": "yFwqzV0J-oFb"
   },
   "source": [
    "from google.colab import files\n",
    "\n",
    "uploaded = files.upload()\n",
    "\n",
    "for fn in uploaded.keys():\n",
    "  print('User uploaded file \"{name}\" with length {length} bytes'.format(\n",
    "      name=fn, length=len(uploaded[fn])))"
   ]
  },
  {
   "cell_type": "code",
   "execution_count": 2,
   "metadata": {},
   "outputs": [],
   "source": [
    "df = pd.read_csv(\"Linear_regression_dataset.csv\")"
   ]
  },
  {
   "cell_type": "code",
   "execution_count": 3,
   "metadata": {
    "colab": {},
    "colab_type": "code",
    "id": "l-9Mtors-oFf",
    "outputId": "a7870e5d-deac-4209-bd92-3dea0833cb14"
   },
   "outputs": [
    {
     "data": {
      "text/plain": [
       "(1232, 6)"
      ]
     },
     "execution_count": 3,
     "metadata": {},
     "output_type": "execute_result"
    }
   ],
   "source": [
    "# check the shape of the data\n",
    "df.shape"
   ]
  },
  {
   "cell_type": "markdown",
   "metadata": {
    "colab_type": "text",
    "id": "FpjtbaUY-oFo"
   },
   "source": [
    "The dataset set contains 1232 rows and 6 columns "
   ]
  },
  {
   "cell_type": "code",
   "execution_count": 4,
   "metadata": {
    "colab": {},
    "colab_type": "code",
    "id": "DwUfWf02-oFp",
    "outputId": "d2795012-b1aa-4969-85b7-379b2bacbefb"
   },
   "outputs": [
    {
     "data": {
      "text/html": [
       "<div>\n",
       "<style scoped>\n",
       "    .dataframe tbody tr th:only-of-type {\n",
       "        vertical-align: middle;\n",
       "    }\n",
       "\n",
       "    .dataframe tbody tr th {\n",
       "        vertical-align: top;\n",
       "    }\n",
       "\n",
       "    .dataframe thead th {\n",
       "        text-align: right;\n",
       "    }\n",
       "</style>\n",
       "<table border=\"1\" class=\"dataframe\">\n",
       "  <thead>\n",
       "    <tr style=\"text-align: right;\">\n",
       "      <th></th>\n",
       "      <th>var_1</th>\n",
       "      <th>var_2</th>\n",
       "      <th>var_3</th>\n",
       "      <th>var_4</th>\n",
       "      <th>var_5</th>\n",
       "      <th>output</th>\n",
       "    </tr>\n",
       "  </thead>\n",
       "  <tbody>\n",
       "    <tr>\n",
       "      <th>0</th>\n",
       "      <td>734</td>\n",
       "      <td>688</td>\n",
       "      <td>81</td>\n",
       "      <td>0.328</td>\n",
       "      <td>0.259</td>\n",
       "      <td>0.418</td>\n",
       "    </tr>\n",
       "    <tr>\n",
       "      <th>1</th>\n",
       "      <td>700</td>\n",
       "      <td>600</td>\n",
       "      <td>94</td>\n",
       "      <td>0.320</td>\n",
       "      <td>0.247</td>\n",
       "      <td>0.389</td>\n",
       "    </tr>\n",
       "    <tr>\n",
       "      <th>2</th>\n",
       "      <td>712</td>\n",
       "      <td>705</td>\n",
       "      <td>93</td>\n",
       "      <td>0.311</td>\n",
       "      <td>0.247</td>\n",
       "      <td>0.417</td>\n",
       "    </tr>\n",
       "  </tbody>\n",
       "</table>\n",
       "</div>"
      ],
      "text/plain": [
       "   var_1  var_2  var_3  var_4  var_5  output\n",
       "0    734    688     81  0.328  0.259   0.418\n",
       "1    700    600     94  0.320  0.247   0.389\n",
       "2    712    705     93  0.311  0.247   0.417"
      ]
     },
     "execution_count": 4,
     "metadata": {},
     "output_type": "execute_result"
    }
   ],
   "source": [
    "#view few rows of the dataset\n",
    "df.head(3)"
   ]
  },
  {
   "cell_type": "code",
   "execution_count": 5,
   "metadata": {
    "colab": {},
    "colab_type": "code",
    "id": "maKc7jRu-oFv",
    "outputId": "496b018a-b64e-41d0-c5a6-8a078573289c"
   },
   "outputs": [
    {
     "name": "stdout",
     "output_type": "stream",
     "text": [
      "<class 'pandas.core.frame.DataFrame'>\n",
      "RangeIndex: 1232 entries, 0 to 1231\n",
      "Data columns (total 6 columns):\n",
      " #   Column  Non-Null Count  Dtype  \n",
      "---  ------  --------------  -----  \n",
      " 0   var_1   1232 non-null   int64  \n",
      " 1   var_2   1232 non-null   int64  \n",
      " 2   var_3   1232 non-null   int64  \n",
      " 3   var_4   1232 non-null   float64\n",
      " 4   var_5   1232 non-null   float64\n",
      " 5   output  1232 non-null   float64\n",
      "dtypes: float64(3), int64(3)\n",
      "memory usage: 57.9 KB\n"
     ]
    }
   ],
   "source": [
    "# View more information about dataset\n",
    "df.info()"
   ]
  },
  {
   "cell_type": "markdown",
   "metadata": {
    "colab_type": "text",
    "id": "FeEywpiC-oF3"
   },
   "source": [
    "The dataset does not contain any missing values and datatypes are int and floats "
   ]
  },
  {
   "cell_type": "code",
   "execution_count": 6,
   "metadata": {
    "colab": {},
    "colab_type": "code",
    "id": "UjPcx3Hb-oF4",
    "outputId": "6f183038-da44-4b85-df3e-4f2c5fd59852"
   },
   "outputs": [
    {
     "data": {
      "text/html": [
       "<div>\n",
       "<style scoped>\n",
       "    .dataframe tbody tr th:only-of-type {\n",
       "        vertical-align: middle;\n",
       "    }\n",
       "\n",
       "    .dataframe tbody tr th {\n",
       "        vertical-align: top;\n",
       "    }\n",
       "\n",
       "    .dataframe thead th {\n",
       "        text-align: right;\n",
       "    }\n",
       "</style>\n",
       "<table border=\"1\" class=\"dataframe\">\n",
       "  <thead>\n",
       "    <tr style=\"text-align: right;\">\n",
       "      <th></th>\n",
       "      <th>var_1</th>\n",
       "      <th>var_2</th>\n",
       "      <th>var_3</th>\n",
       "      <th>var_4</th>\n",
       "      <th>var_5</th>\n",
       "      <th>output</th>\n",
       "    </tr>\n",
       "  </thead>\n",
       "  <tbody>\n",
       "    <tr>\n",
       "      <th>count</th>\n",
       "      <td>1232.000000</td>\n",
       "      <td>1232.000000</td>\n",
       "      <td>1232.000000</td>\n",
       "      <td>1232.000000</td>\n",
       "      <td>1232.000000</td>\n",
       "      <td>1232.000000</td>\n",
       "    </tr>\n",
       "    <tr>\n",
       "      <th>mean</th>\n",
       "      <td>715.081981</td>\n",
       "      <td>715.081981</td>\n",
       "      <td>80.904221</td>\n",
       "      <td>0.326331</td>\n",
       "      <td>0.259273</td>\n",
       "      <td>0.397342</td>\n",
       "    </tr>\n",
       "    <tr>\n",
       "      <th>std</th>\n",
       "      <td>91.534294</td>\n",
       "      <td>93.079933</td>\n",
       "      <td>11.458139</td>\n",
       "      <td>0.015013</td>\n",
       "      <td>0.012907</td>\n",
       "      <td>0.033267</td>\n",
       "    </tr>\n",
       "    <tr>\n",
       "      <th>min</th>\n",
       "      <td>463.000000</td>\n",
       "      <td>472.000000</td>\n",
       "      <td>40.000000</td>\n",
       "      <td>0.277000</td>\n",
       "      <td>0.214000</td>\n",
       "      <td>0.301000</td>\n",
       "    </tr>\n",
       "    <tr>\n",
       "      <th>25%</th>\n",
       "      <td>652.000000</td>\n",
       "      <td>649.750000</td>\n",
       "      <td>73.000000</td>\n",
       "      <td>0.317000</td>\n",
       "      <td>0.251000</td>\n",
       "      <td>0.375000</td>\n",
       "    </tr>\n",
       "    <tr>\n",
       "      <th>50%</th>\n",
       "      <td>711.000000</td>\n",
       "      <td>709.000000</td>\n",
       "      <td>81.000000</td>\n",
       "      <td>0.326000</td>\n",
       "      <td>0.260000</td>\n",
       "      <td>0.396000</td>\n",
       "    </tr>\n",
       "    <tr>\n",
       "      <th>75%</th>\n",
       "      <td>775.000000</td>\n",
       "      <td>774.250000</td>\n",
       "      <td>89.000000</td>\n",
       "      <td>0.337000</td>\n",
       "      <td>0.268000</td>\n",
       "      <td>0.421000</td>\n",
       "    </tr>\n",
       "    <tr>\n",
       "      <th>max</th>\n",
       "      <td>1009.000000</td>\n",
       "      <td>1103.000000</td>\n",
       "      <td>116.000000</td>\n",
       "      <td>0.373000</td>\n",
       "      <td>0.294000</td>\n",
       "      <td>0.491000</td>\n",
       "    </tr>\n",
       "  </tbody>\n",
       "</table>\n",
       "</div>"
      ],
      "text/plain": [
       "             var_1        var_2        var_3        var_4        var_5  \\\n",
       "count  1232.000000  1232.000000  1232.000000  1232.000000  1232.000000   \n",
       "mean    715.081981   715.081981    80.904221     0.326331     0.259273   \n",
       "std      91.534294    93.079933    11.458139     0.015013     0.012907   \n",
       "min     463.000000   472.000000    40.000000     0.277000     0.214000   \n",
       "25%     652.000000   649.750000    73.000000     0.317000     0.251000   \n",
       "50%     711.000000   709.000000    81.000000     0.326000     0.260000   \n",
       "75%     775.000000   774.250000    89.000000     0.337000     0.268000   \n",
       "max    1009.000000  1103.000000   116.000000     0.373000     0.294000   \n",
       "\n",
       "            output  \n",
       "count  1232.000000  \n",
       "mean      0.397342  \n",
       "std       0.033267  \n",
       "min       0.301000  \n",
       "25%       0.375000  \n",
       "50%       0.396000  \n",
       "75%       0.421000  \n",
       "max       0.491000  "
      ]
     },
     "execution_count": 6,
     "metadata": {},
     "output_type": "execute_result"
    }
   ],
   "source": [
    "df.describe()"
   ]
  },
  {
   "cell_type": "markdown",
   "metadata": {
    "colab_type": "text",
    "id": "U6CRQEEk-oF9"
   },
   "source": [
    "## Exploratory Data Analysis "
   ]
  },
  {
   "cell_type": "code",
   "execution_count": 7,
   "metadata": {
    "colab": {},
    "colab_type": "code",
    "id": "mIfzlylM-oF-",
    "outputId": "4c03efe1-1f13-4817-a9b2-25c797c80c49"
   },
   "outputs": [
    {
     "data": {
      "image/png": "[encoded data removed]",
      "text/plain": [
       "<Figure size 432x288 with 1 Axes>"
      ]
     },
     "metadata": {
      "needs_background": "light"
     },
     "output_type": "display_data"
    }
   ],
   "source": [
    "plt.scatter(df['var_1'],df['output'])\n",
    "plt.xlabel('var_1')\n",
    "plt.ylabel('output')\n",
    "plt.show()"
   ]
  },
  {
   "cell_type": "markdown",
   "metadata": {
    "colab_type": "text",
    "id": "s1O8_DHR-oGD"
   },
   "source": [
    "Strong relationship between var_1 and output"
   ]
  },
  {
   "cell_type": "code",
   "execution_count": 8,
   "metadata": {
    "colab": {},
    "colab_type": "code",
    "id": "vh5_ArMj-oGD",
    "outputId": "9442e785-55c3-48c4-f853-fa98450c352b"
   },
   "outputs": [
    {
     "data": {
      "image/png": "[encoded data removed]",
      "text/plain": [
       "<Figure size 432x288 with 1 Axes>"
      ]
     },
     "metadata": {
      "needs_background": "light"
     },
     "output_type": "display_data"
    }
   ],
   "source": [
    "plt.scatter(df['var_2'],df['output'])\n",
    "plt.xlabel('var_2')\n",
    "plt.ylabel('output')\n",
    "plt.show()"
   ]
  },
  {
   "cell_type": "markdown",
   "metadata": {
    "colab_type": "text",
    "id": "IL3yUwqg-oGI"
   },
   "source": [
    "Relatively weak relationship between var_2 and output"
   ]
  },
  {
   "cell_type": "code",
   "execution_count": 9,
   "metadata": {
    "colab": {},
    "colab_type": "code",
    "id": "VFGhSvn1-oGI",
    "outputId": "67f5ead7-1b2b-4234-d9a0-3ce1a7aaa543"
   },
   "outputs": [
    {
     "data": {
      "image/png": "[encoded data removed]",
      "text/plain": [
       "<Figure size 432x288 with 1 Axes>"
      ]
     },
     "metadata": {
      "needs_background": "light"
     },
     "output_type": "display_data"
    }
   ],
   "source": [
    "plt.scatter(df['var_3'],df['output'])\n",
    "plt.xlabel('var_3')\n",
    "plt.ylabel('output')\n",
    "plt.show()"
   ]
  },
  {
   "cell_type": "code",
   "execution_count": 10,
   "metadata": {
    "colab": {},
    "colab_type": "code",
    "id": "1o8FYNj7-oGN",
    "outputId": "4e3db03f-5005-40d3-9f9a-563f165d784c"
   },
   "outputs": [
    {
     "data": {
      "image/png": "[encoded data removed]",
      "text/plain": [
       "<Figure size 432x288 with 1 Axes>"
      ]
     },
     "metadata": {
      "needs_background": "light"
     },
     "output_type": "display_data"
    }
   ],
   "source": [
    "plt.scatter(df['var_4'],df['output'])\n",
    "plt.xlabel('var_4')\n",
    "plt.ylabel('output')\n",
    "plt.show()"
   ]
  },
  {
   "cell_type": "markdown",
   "metadata": {
    "colab_type": "text",
    "id": "EbqrYXmf-oGS"
   },
   "source": [
    "Strong relationship between var_4 and output"
   ]
  },
  {
   "cell_type": "code",
   "execution_count": 11,
   "metadata": {
    "colab": {},
    "colab_type": "code",
    "id": "Ch35lqm3-oGT",
    "outputId": "8e93be52-60ea-4c44-98f8-8286f92f5f74"
   },
   "outputs": [
    {
     "data": {
      "image/png": "[encoded data removed]",
      "text/plain": [
       "<Figure size 432x288 with 1 Axes>"
      ]
     },
     "metadata": {
      "needs_background": "light"
     },
     "output_type": "display_data"
    }
   ],
   "source": [
    "plt.scatter(df['var_5'],df['output'])\n",
    "plt.xlabel('var_5')\n",
    "plt.ylabel('output')\n",
    "plt.show()"
   ]
  },
  {
   "cell_type": "markdown",
   "metadata": {
    "colab_type": "text",
    "id": "lTojeCWt-oGX"
   },
   "source": [
    "## Correlation plot to view relationship amongst input variables and output"
   ]
  },
  {
   "cell_type": "code",
   "execution_count": 12,
   "metadata": {
    "colab": {},
    "colab_type": "code",
    "id": "G8JPBsfE-oGY",
    "outputId": "b93c6889-5664-4858-e2d2-8528c6653af4"
   },
   "outputs": [
    {
     "data": {
      "image/png": "[encoded data removed]",
      "text/plain": [
       "<Figure size 432x288 with 2 Axes>"
      ]
     },
     "metadata": {
      "needs_background": "light"
     },
     "output_type": "display_data"
    }
   ],
   "source": [
    "correlations = df.corr()\n",
    "# plot correlation matrix\n",
    "fig = plt.figure()\n",
    "ax = fig.add_subplot(111)\n",
    "cax = ax.matshow(correlations, vmin=-1, vmax=1)\n",
    "fig.colorbar(cax,)\n",
    "ticks = np.arange(0,6,1)\n",
    "ax.set_xticks(ticks)\n",
    "ax.set_yticks(ticks)\n",
    "ax.set_xticklabels(df.columns)\n",
    "ax.set_yticklabels(df.columns)\n",
    "plt.show()"
   ]
  },
  {
   "cell_type": "markdown",
   "metadata": {
    "colab_type": "text",
    "id": "RkLDLKfl-oGc"
   },
   "source": [
    "var_2 and var_3 are strongly negatively correlated ( issue of multi collinearity) "
   ]
  },
  {
   "cell_type": "markdown",
   "metadata": {
    "colab_type": "text",
    "id": "R6DQcvoX-oGd"
   },
   "source": [
    "## Feature Engineering"
   ]
  },
  {
   "cell_type": "markdown",
   "metadata": {
    "colab_type": "text",
    "id": "JvcoR6P_-oGd"
   },
   "source": [
    "Creating the input variables and output/target variables "
   ]
  },
  {
   "cell_type": "markdown",
   "metadata": {
    "colab_type": "text",
    "id": "78iT2zZr-oGe"
   },
   "source": [
    "* X = Input variables\n",
    "* y = Target/output variables"
   ]
  },
  {
   "cell_type": "code",
   "execution_count": 13,
   "metadata": {
    "colab": {},
    "colab_type": "code",
    "id": "76Ms9dVp-oGf",
    "outputId": "56f1b078-9937-4337-f8e8-5cc9af28c39f"
   },
   "outputs": [
    {
     "data": {
      "text/plain": [
       "var_1     1232\n",
       "var_2     1232\n",
       "var_3     1232\n",
       "var_4     1232\n",
       "var_5     1232\n",
       "output    1232\n",
       "dtype: int64"
      ]
     },
     "execution_count": 13,
     "metadata": {},
     "output_type": "execute_result"
    }
   ],
   "source": [
    "df.count()"
   ]
  },
  {
   "cell_type": "code",
   "execution_count": 14,
   "metadata": {
    "colab": {},
    "colab_type": "code",
    "id": "oVbUISEE-oGl"
   },
   "outputs": [],
   "source": [
    "# X (input ) & Y (output) "
   ]
  },
  {
   "cell_type": "code",
   "execution_count": 15,
   "metadata": {
    "colab": {},
    "colab_type": "code",
    "id": "MVtN_wxD-oGr"
   },
   "outputs": [],
   "source": [
    "#create X ( input variables with all columns except for outout/target column )\n",
    "X=df.loc[:,df.columns !='output']"
   ]
  },
  {
   "cell_type": "code",
   "execution_count": 16,
   "metadata": {
    "colab": {},
    "colab_type": "code",
    "id": "sTIHGUTL-oGw",
    "outputId": "a97464a7-bca3-46ad-a3bf-5855513e107e"
   },
   "outputs": [
    {
     "data": {
      "text/plain": [
       "(1232, 5)"
      ]
     },
     "execution_count": 16,
     "metadata": {},
     "output_type": "execute_result"
    }
   ],
   "source": [
    "#so , input data has 1232 rows but only 5 columns \n",
    "X.shape"
   ]
  },
  {
   "cell_type": "code",
   "execution_count": 17,
   "metadata": {
    "colab": {},
    "colab_type": "code",
    "id": "3qQqK3tD-oG6",
    "outputId": "5ab98ce4-898c-4573-d661-7f06d39a51ae"
   },
   "outputs": [
    {
     "data": {
      "text/html": [
       "<div>\n",
       "<style scoped>\n",
       "    .dataframe tbody tr th:only-of-type {\n",
       "        vertical-align: middle;\n",
       "    }\n",
       "\n",
       "    .dataframe tbody tr th {\n",
       "        vertical-align: top;\n",
       "    }\n",
       "\n",
       "    .dataframe thead th {\n",
       "        text-align: right;\n",
       "    }\n",
       "</style>\n",
       "<table border=\"1\" class=\"dataframe\">\n",
       "  <thead>\n",
       "    <tr style=\"text-align: right;\">\n",
       "      <th></th>\n",
       "      <th>var_1</th>\n",
       "      <th>var_2</th>\n",
       "      <th>var_3</th>\n",
       "      <th>var_4</th>\n",
       "      <th>var_5</th>\n",
       "    </tr>\n",
       "  </thead>\n",
       "  <tbody>\n",
       "    <tr>\n",
       "      <th>0</th>\n",
       "      <td>734</td>\n",
       "      <td>688</td>\n",
       "      <td>81</td>\n",
       "      <td>0.328</td>\n",
       "      <td>0.259</td>\n",
       "    </tr>\n",
       "    <tr>\n",
       "      <th>1</th>\n",
       "      <td>700</td>\n",
       "      <td>600</td>\n",
       "      <td>94</td>\n",
       "      <td>0.320</td>\n",
       "      <td>0.247</td>\n",
       "    </tr>\n",
       "    <tr>\n",
       "      <th>2</th>\n",
       "      <td>712</td>\n",
       "      <td>705</td>\n",
       "      <td>93</td>\n",
       "      <td>0.311</td>\n",
       "      <td>0.247</td>\n",
       "    </tr>\n",
       "  </tbody>\n",
       "</table>\n",
       "</div>"
      ],
      "text/plain": [
       "   var_1  var_2  var_3  var_4  var_5\n",
       "0    734    688     81  0.328  0.259\n",
       "1    700    600     94  0.320  0.247\n",
       "2    712    705     93  0.311  0.247"
      ]
     },
     "execution_count": 17,
     "metadata": {},
     "output_type": "execute_result"
    }
   ],
   "source": [
    "#X does not contain output column\n",
    "X.head(3)"
   ]
  },
  {
   "cell_type": "code",
   "execution_count": 18,
   "metadata": {
    "colab": {},
    "colab_type": "code",
    "id": "PbYKhctx-oG-"
   },
   "outputs": [],
   "source": [
    "#create the y data with only output column\n",
    "y=df['output']"
   ]
  },
  {
   "cell_type": "code",
   "execution_count": 19,
   "metadata": {
    "colab": {},
    "colab_type": "code",
    "id": "r1wUySVf-oHC",
    "outputId": "d525bbb5-5e06-496c-dc2e-67d718a69d44"
   },
   "outputs": [
    {
     "data": {
      "text/plain": [
       "(1232,)"
      ]
     },
     "execution_count": 19,
     "metadata": {},
     "output_type": "execute_result"
    }
   ],
   "source": [
    "y.shape"
   ]
  },
  {
   "cell_type": "code",
   "execution_count": 20,
   "metadata": {
    "colab": {},
    "colab_type": "code",
    "id": "sC7j4Ccl-oHF",
    "outputId": "425d3700-bc97-42bd-ac4f-4870474c4b11"
   },
   "outputs": [
    {
     "data": {
      "text/plain": [
       "0    0.418\n",
       "1    0.389\n",
       "2    0.417\n",
       "Name: output, dtype: float64"
      ]
     },
     "execution_count": 20,
     "metadata": {},
     "output_type": "execute_result"
    }
   ],
   "source": [
    "y.head(3)"
   ]
  },
  {
   "cell_type": "markdown",
   "metadata": {
    "colab_type": "text",
    "id": "FTSEDBKk-oHJ"
   },
   "source": [
    "### Split intro train and test set for model buulding and validation purpose "
   ]
  },
  {
   "cell_type": "code",
   "execution_count": 21,
   "metadata": {
    "colab": {},
    "colab_type": "code",
    "id": "MMieFCCR-oHJ"
   },
   "outputs": [],
   "source": [
    "from sklearn.model_selection import train_test_split\n",
    "from sklearn.linear_model import LinearRegression"
   ]
  },
  {
   "cell_type": "code",
   "execution_count": 22,
   "metadata": {
    "colab": {},
    "colab_type": "code",
    "id": "VIBQIT1G-oHO"
   },
   "outputs": [],
   "source": [
    "#create training and test samples with 70/30 split ration between train and test \n",
    "X_train,X_test,y_train,y_test=train_test_split(X,y,test_size=0.30,random_state=0)"
   ]
  },
  {
   "cell_type": "code",
   "execution_count": 23,
   "metadata": {
    "colab": {},
    "colab_type": "code",
    "id": "57hr03Cx-oHS",
    "outputId": "719ab298-8605-4a6f-b0a3-f248cc57838f"
   },
   "outputs": [
    {
     "data": {
      "text/plain": [
       "(862, 5)"
      ]
     },
     "execution_count": 23,
     "metadata": {},
     "output_type": "execute_result"
    }
   ],
   "source": [
    "#we train our LR model on 862 rows and test on 370 remaining records\n",
    "X_train.shape"
   ]
  },
  {
   "cell_type": "code",
   "execution_count": 24,
   "metadata": {
    "colab": {},
    "colab_type": "code",
    "id": "VqGHlTbo-oHW",
    "outputId": "a96278c4-a731-4b8b-dc23-35d22012023e"
   },
   "outputs": [
    {
     "data": {
      "text/plain": [
       "(370, 5)"
      ]
     },
     "execution_count": 24,
     "metadata": {},
     "output_type": "execute_result"
    }
   ],
   "source": [
    "X_test.shape"
   ]
  },
  {
   "cell_type": "code",
   "execution_count": 25,
   "metadata": {
    "colab": {},
    "colab_type": "code",
    "id": "cM36vZm6-oHa",
    "outputId": "f47f62c3-9e8b-412b-dd97-0802b11448b5"
   },
   "outputs": [
    {
     "data": {
      "text/plain": [
       "(862,)"
      ]
     },
     "execution_count": 25,
     "metadata": {},
     "output_type": "execute_result"
    }
   ],
   "source": [
    "y_train.shape"
   ]
  },
  {
   "cell_type": "code",
   "execution_count": 26,
   "metadata": {
    "colab": {},
    "colab_type": "code",
    "id": "QtqJL6EZ-oHd",
    "outputId": "f1e4b72f-ebe8-48c9-c758-c19b317c158d"
   },
   "outputs": [
    {
     "data": {
      "text/plain": [
       "(370,)"
      ]
     },
     "execution_count": 26,
     "metadata": {},
     "output_type": "execute_result"
    }
   ],
   "source": [
    "y_test.shape"
   ]
  },
  {
   "cell_type": "markdown",
   "metadata": {
    "colab": {},
    "colab_type": "code",
    "id": "6EM9Mydj-oHh",
    "outputId": "48754ebc-23a5-473c-fd2c-5433d49f4956"
   },
   "source": [
    "from IPython.display import Image\n",
    "Image(filename='train_test.png')"
   ]
  },
  {
   "cell_type": "markdown",
   "metadata": {
    "colab_type": "text",
    "id": "aHJZrUrv-oHl"
   },
   "source": [
    "## Build Linear Regression Model"
   ]
  },
  {
   "cell_type": "code",
   "execution_count": 27,
   "metadata": {
    "colab": {},
    "colab_type": "code",
    "id": "HlIPjGTy-oHm"
   },
   "outputs": [],
   "source": [
    "#Train the Linear Regression model on training dataset\n",
    "lr = LinearRegression().fit(X_train, y_train)"
   ]
  },
  {
   "cell_type": "code",
   "execution_count": 28,
   "metadata": {
    "colab": {},
    "colab_type": "code",
    "id": "1OzBwV1G-oHp",
    "outputId": "00053bd9-a473-4b3d-e0fc-2d43cdf76469"
   },
   "outputs": [
    {
     "data": {
      "text/plain": [
       "LinearRegression()"
      ]
     },
     "execution_count": 28,
     "metadata": {},
     "output_type": "execute_result"
    }
   ],
   "source": [
    "lr"
   ]
  },
  {
   "cell_type": "code",
   "execution_count": 29,
   "metadata": {
    "colab": {},
    "colab_type": "code",
    "id": "23hzQck--oHt",
    "outputId": "ce4b50fc-4925-457b-9170-e9a29d29591e"
   },
   "outputs": [
    {
     "data": {
      "text/plain": [
       "array([ 3.26446605e-04,  5.61876540e-05,  2.13640209e-04, -6.03043663e-01,\n",
       "        4.91331050e-01])"
      ]
     },
     "execution_count": 29,
     "metadata": {},
     "output_type": "execute_result"
    }
   ],
   "source": [
    "#the coefficients value for the input variables ( B1,B2,B3,B4,B5)\n",
    "lr.coef_"
   ]
  },
  {
   "cell_type": "code",
   "execution_count": 30,
   "metadata": {
    "colab": {},
    "colab_type": "code",
    "id": "4SU52Rzc-oHy",
    "outputId": "11503361-0edb-428e-f892-22ebd6b962d4"
   },
   "outputs": [
    {
     "data": {
      "text/plain": [
       "0.1761020002084009"
      ]
     },
     "execution_count": 30,
     "metadata": {},
     "output_type": "execute_result"
    }
   ],
   "source": [
    "#The intercept value B0( the value of output when all input variables are zero )\n",
    "lr.intercept_"
   ]
  },
  {
   "cell_type": "markdown",
   "metadata": {
    "colab_type": "text",
    "id": "d1CnrbJz-oH2"
   },
   "source": [
    "## Model Evaluation "
   ]
  },
  {
   "cell_type": "code",
   "execution_count": 31,
   "metadata": {
    "colab": {},
    "colab_type": "code",
    "id": "axGEkI_H-oH2",
    "outputId": "84a0bfd4-cdfc-49c5-ca40-8064e904cf12"
   },
   "outputs": [
    {
     "name": "stdout",
     "output_type": "stream",
     "text": [
      " The accuracy of model on training dataset is 0.8688 \n"
     ]
    }
   ],
   "source": [
    "#print the results of the model on train dataset\n",
    "print(\" The accuracy of model on training dataset is {:.4f} \".format(lr.score(X_train,y_train)))"
   ]
  },
  {
   "cell_type": "code",
   "execution_count": 32,
   "metadata": {
    "colab": {},
    "colab_type": "code",
    "id": "a3ksXXeQ-oH8",
    "outputId": "936a45bf-7bb3-4429-f64b-6450c17b4e0b"
   },
   "outputs": [
    {
     "name": "stdout",
     "output_type": "stream",
     "text": [
      " The accuracy of model on test dataset is 0.8693 \n"
     ]
    }
   ],
   "source": [
    "#print the result of the model on test dataset\n",
    "print(\" The accuracy of model on test dataset is {:.4f} \".format(lr.score(X_test,y_test)))"
   ]
  },
  {
   "cell_type": "code",
   "execution_count": 33,
   "metadata": {
    "colab": {},
    "colab_type": "code",
    "id": "gpcoFtJs-oIB"
   },
   "outputs": [],
   "source": [
    "## removing the highly correlated feature \n",
    "#create X ( input variables with all columns except for outout/target column )\n",
    "del df['var_3']\n",
    "X=df.loc[:,df.columns !='output']\n",
    "y=df['output']"
   ]
  },
  {
   "cell_type": "code",
   "execution_count": 34,
   "metadata": {
    "colab": {},
    "colab_type": "code",
    "id": "CtMhneGO-oIF"
   },
   "outputs": [],
   "source": [
    "#create training and test samples with 70/30 split ration between train and test \n",
    "X_train,X_test,y_train,y_test=train_test_split(X,y,test_size=0.30,random_state=0)"
   ]
  },
  {
   "cell_type": "code",
   "execution_count": 35,
   "metadata": {
    "colab": {},
    "colab_type": "code",
    "id": "GODuVi7k-oII"
   },
   "outputs": [],
   "source": [
    "#Train the Linear Regression model on training dataset\n",
    "lr = LinearRegression().fit(X_train, y_train)"
   ]
  },
  {
   "cell_type": "code",
   "execution_count": 36,
   "metadata": {
    "colab": {},
    "colab_type": "code",
    "id": "-SUDUIP1-oIg",
    "outputId": "407df0f3-23bc-4a96-f13f-77f63b3a88e2"
   },
   "outputs": [
    {
     "data": {
      "text/plain": [
       "0.8681437787052848"
      ]
     },
     "execution_count": 36,
     "metadata": {},
     "output_type": "execute_result"
    }
   ],
   "source": [
    "lr.score(X_train,y_train)"
   ]
  },
  {
   "cell_type": "code",
   "execution_count": 37,
   "metadata": {
    "colab": {},
    "colab_type": "code",
    "id": "sTz7B-Sj-oIo",
    "outputId": "845e2da7-89ff-4842-b8e2-205c0d43344f"
   },
   "outputs": [
    {
     "data": {
      "text/plain": [
       "0.8691945958919287"
      ]
     },
     "execution_count": 37,
     "metadata": {},
     "output_type": "execute_result"
    }
   ],
   "source": [
    "lr.score(X_test,y_test)"
   ]
  },
  {
   "cell_type": "markdown",
   "metadata": {
    "colab_type": "text",
    "id": "yEUCyDNg-oIs"
   },
   "source": [
    "## Model fine Tunning"
   ]
  },
  {
   "cell_type": "code",
   "execution_count": 38,
   "metadata": {
    "colab": {},
    "colab_type": "code",
    "id": "b0zdhhs3-oIt"
   },
   "outputs": [],
   "source": [
    "#create a model that accepts number of features to be used to build the model\n",
    "def lr_model(num_features):\n",
    "    #for all the features starting from 1 \n",
    "    df=pd.read_csv('Linear_regression_dataset.csv')\n",
    "    for i in range(1,num_features+1):\n",
    "        #create input dataset with adding number of columns each time\n",
    "        X=df.iloc[:,0:i]\n",
    "        #keeping the output column same everytime\n",
    "        y=df['output']\n",
    "        #splitting the dataset into train test\n",
    "        X_train,X_test,y_train,y_test=train_test_split(X,y,test_size=0.30,random_state=0)\n",
    "        #building and training LR model \n",
    "        lr = LinearRegression().fit(X_train, y_train)\n",
    "        #printing results\n",
    "        print(\" The accuracy of model on training dataset for {} is {:.5f} \".format(i,lr.score(X_train,y_train)))\n",
    "        print(\" The accuracy of model on test dataset for {} is {:.5f} \".format(i,lr.score(X_test,y_test)))\n",
    "        \n",
    "\n",
    "        "
   ]
  },
  {
   "cell_type": "code",
   "execution_count": 39,
   "metadata": {
    "colab": {},
    "colab_type": "code",
    "id": "BTRya92x-oI-",
    "outputId": "a32e55b6-af65-4636-f94b-89fb12e48418"
   },
   "outputs": [
    {
     "name": "stdout",
     "output_type": "stream",
     "text": [
      " The accuracy of model on training dataset for 1 is 0.84424 \n",
      " The accuracy of model on test dataset for 1 is 0.84256 \n",
      " The accuracy of model on training dataset for 2 is 0.85377 \n",
      " The accuracy of model on test dataset for 2 is 0.85013 \n",
      " The accuracy of model on training dataset for 3 is 0.85413 \n",
      " The accuracy of model on test dataset for 3 is 0.85013 \n",
      " The accuracy of model on training dataset for 4 is 0.85950 \n",
      " The accuracy of model on test dataset for 4 is 0.85933 \n",
      " The accuracy of model on training dataset for 5 is 0.86882 \n",
      " The accuracy of model on test dataset for 5 is 0.86931 \n"
     ]
    }
   ],
   "source": [
    "lr_model(num_features=5)"
   ]
  },
  {
   "cell_type": "markdown",
   "metadata": {
    "colab_type": "text",
    "id": "VbEZIDUI-oJC"
   },
   "source": [
    "## Cross features "
   ]
  },
  {
   "cell_type": "code",
   "execution_count": 40,
   "metadata": {
    "colab": {},
    "colab_type": "code",
    "id": "UcHnI6JH-oJD"
   },
   "outputs": [],
   "source": [
    "df['var_1_2_cross']=df['var_1']*df['var_2']\n",
    "df['var_1_4_cross']=df['var_1']*df['var_4']\n",
    "df['var_1_5_cross']=df['var_1']*df['var_4']\n",
    "df['var_2_4_cross']=df['var_2']*df['var_4']\n",
    "df['var_2_5_cross']=df['var_2']*df['var_5']\n",
    "df['var_4_5_cross']=df['var_4']*df['var_5']\n"
   ]
  },
  {
   "cell_type": "code",
   "execution_count": 41,
   "metadata": {
    "colab": {},
    "colab_type": "code",
    "id": "-XOjqx31-oJK"
   },
   "outputs": [],
   "source": [
    "X=df.loc[:,df.columns !='output']\n",
    "y=df['output']"
   ]
  },
  {
   "cell_type": "code",
   "execution_count": 42,
   "metadata": {
    "colab": {},
    "colab_type": "code",
    "id": "sjHT8I8c-oJi",
    "outputId": "ba82b8f4-66b8-440f-dcef-83185cd74aff"
   },
   "outputs": [
    {
     "data": {
      "text/plain": [
       "(1232, 10)"
      ]
     },
     "execution_count": 42,
     "metadata": {},
     "output_type": "execute_result"
    }
   ],
   "source": [
    "X.shape"
   ]
  },
  {
   "cell_type": "code",
   "execution_count": 43,
   "metadata": {
    "colab": {},
    "colab_type": "code",
    "id": "K7xlQy6m-oJs",
    "outputId": "da56fe26-8d6a-4eca-f513-7ed2340c8f3a"
   },
   "outputs": [
    {
     "data": {
      "text/plain": [
       "0.870110251352847"
      ]
     },
     "execution_count": 43,
     "metadata": {},
     "output_type": "execute_result"
    }
   ],
   "source": [
    "#create training and test samples with 70/30 split ration between train and test \n",
    "X_train,X_test,y_train,y_test=train_test_split(X,y,test_size=0.30,random_state=0)\n",
    "#Train the Linear Regression model on training dataset\n",
    "lr = LinearRegression().fit(X_train, y_train)\n",
    "lr.score(X_test,y_test)"
   ]
  },
  {
   "cell_type": "markdown",
   "metadata": {
    "colab_type": "text",
    "collapsed": true,
    "id": "lop0llTI-oJv"
   },
   "source": [
    "## OLS method ( python stats library )"
   ]
  },
  {
   "cell_type": "code",
   "execution_count": 44,
   "metadata": {
    "colab": {},
    "colab_type": "code",
    "id": "UU9tG69M-oJw"
   },
   "outputs": [],
   "source": [
    "import statsmodels.api as sm\n",
    "from scipy import stats"
   ]
  },
  {
   "cell_type": "code",
   "execution_count": 45,
   "metadata": {
    "colab": {},
    "colab_type": "code",
    "id": "qDO8kFfM-oJz",
    "outputId": "89c09665-30dd-4e0a-a36e-298f5e480199"
   },
   "outputs": [
    {
     "name": "stdout",
     "output_type": "stream",
     "text": [
      "                                 OLS Regression Results                                \n",
      "=======================================================================================\n",
      "Dep. Variable:                 output   R-squared (uncentered):                   0.999\n",
      "Model:                            OLS   Adj. R-squared (uncentered):              0.999\n",
      "Method:                 Least Squares   F-statistic:                          1.060e+05\n",
      "Date:                Sat, 20 Feb 2021   Prob (F-statistic):                        0.00\n",
      "Time:                        20:59:17   Log-Likelihood:                          2595.7\n",
      "No. Observations:                 862   AIC:                                     -5173.\n",
      "Df Residuals:                     853   BIC:                                     -5131.\n",
      "Df Model:                           9                                                  \n",
      "Covariance Type:            nonrobust                                                  \n",
      "=================================================================================\n",
      "                    coef    std err          t      P>|t|      [0.025      0.975]\n",
      "---------------------------------------------------------------------------------\n",
      "var_1             0.0005      0.000      5.060      0.000       0.000       0.001\n",
      "var_2            -0.0002      0.000     -0.921      0.357      -0.000       0.000\n",
      "var_4            -0.4178      0.378     -1.106      0.269      -1.159       0.324\n",
      "var_5             1.8248      0.686      2.660      0.008       0.478       3.171\n",
      "var_1_2_cross -2.408e-07    1.2e-07     -2.007      0.045   -4.76e-07   -5.31e-09\n",
      "var_1_4_cross  6.805e-06      0.000      0.034      0.973      -0.000       0.000\n",
      "var_1_5_cross  6.805e-06      0.000      0.034      0.973      -0.000       0.000\n",
      "var_2_4_cross     0.0012      0.001      1.590      0.112      -0.000       0.003\n",
      "var_2_5_cross -7.278e-05      0.001     -0.104      0.917      -0.001       0.001\n",
      "var_4_5_cross    -4.0109      2.167     -1.851      0.065      -8.264       0.243\n",
      "==============================================================================\n",
      "Omnibus:                        3.178   Durbin-Watson:                   1.934\n",
      "Prob(Omnibus):                  0.204   Jarque-Bera (JB):                3.049\n",
      "Skew:                          -0.115   Prob(JB):                        0.218\n",
      "Kurtosis:                       3.178   Cond. No.                     1.23e+21\n",
      "==============================================================================\n",
      "\n",
      "Notes:\n",
      "[1] R² is computed without centering (uncentered) since the model does not contain a constant.\n",
      "[2] Standard Errors assume that the covariance matrix of the errors is correctly specified.\n",
      "[3] The smallest eigenvalue is 1.57e-28. This might indicate that there are\n",
      "strong multicollinearity problems or that the design matrix is singular.\n"
     ]
    }
   ],
   "source": [
    "#Model Results\n",
    "#create X ( input variables with all columns except for outout/target column )\n",
    "\n",
    "X=df.loc[:,df.columns !='output']\n",
    "y=df['output']\n",
    "#create training and test samples with 70/30 split ration between train and test \n",
    "X_train,X_test,y_train,y_test=train_test_split(X,y,test_size=0.30,random_state=0)\n",
    "ols_model = sm.OLS(y_train, X_train)\n",
    "result = ols_model.fit()\n",
    "print(result.summary())"
   ]
  }
 ],
 "metadata": {
  "colab": {
   "collapsed_sections": [
    "aHJZrUrv-oHl",
    "d1CnrbJz-oH2",
    "yEUCyDNg-oIs",
    "VbEZIDUI-oJC",
    "lop0llTI-oJv"
   ],
   "name": "NG_PS_Linear_Regression_casestudy.ipynb",
   "provenance": []
  },
  "kernelspec": {
   "display_name": "Python 3",
   "language": "python",
   "name": "python3"
  },
  "language_info": {
   "codemirror_mode": {
    "name": "ipython",
    "version": 3
   },
   "file_extension": ".py",
   "mimetype": "text/x-python",
   "name": "python",
   "nbconvert_exporter": "python",
   "pygments_lexer": "ipython3",
   "version": "3.8.5"
  }
 },
 "nbformat": 4,
 "nbformat_minor": 1
}
